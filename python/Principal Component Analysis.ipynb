{
 "cells": [
  {
   "cell_type": "code",
   "execution_count": 8,
   "metadata": {},
   "outputs": [],
   "source": [
    "import numpy as np\n",
    "import pandas as pd\n",
    "import csv\n",
    "import seaborn as sns\n",
    "from matplotlib import pyplot as plt\n",
    "from matplotlib.mlab import PCA as mlabPCA\n",
    "from sklearn import preprocessing\n",
    "\n",
    "from sklearn.cluster import KMeans"
   ]
  },
  {
   "cell_type": "code",
   "execution_count": 9,
   "metadata": {},
   "outputs": [
    {
     "name": "stdout",
     "output_type": "stream",
     "text": [
      "   avg_age  avg_height  avg_weight  medals  global_gold  global_silver  \\\n",
      "0       27      176.39       72.87     432          123            119   \n",
      "1       29      180.03       76.16     488          197            157   \n",
      "2       25      177.88       71.19     743          188            243   \n",
      "3       27      179.24       73.59    1122          322            367   \n",
      "4       26      177.23       74.53    1035          421            305   \n",
      "\n",
      "   global_bronze  swimming_gold  swimming_silver  swimming_bronze  \\\n",
      "0            190              0                1                3   \n",
      "1            134              0                1                1   \n",
      "2            312             30               48               36   \n",
      "3            433             13               33               34   \n",
      "4            309              5                5               17   \n",
      "\n",
      "        ...         athletics_bronze  canoeing_gold  canoeing_silver  \\\n",
      "0       ...                       32              7                2   \n",
      "1       ...                        8              9                5   \n",
      "2       ...                        9              0                4   \n",
      "3       ...                       62             10               12   \n",
      "4       ...                       35              8                9   \n",
      "\n",
      "   canoeing_bronze  wrestling_gold  wrestling_silver  wrestling_bronze  \\\n",
      "0                5              27                29                29   \n",
      "1                8               4                 2                 2   \n",
      "2                8               0                 0                 0   \n",
      "3               31               4                 4                 9   \n",
      "4                6               7                 4                10   \n",
      "\n",
      "   shooting_gold  shooting_silver  shooting_bronze  \n",
      "0              4               11               26  \n",
      "1             29               33               15  \n",
      "2              0                1                5  \n",
      "3             12               27               30  \n",
      "4             16               16               11  \n",
      "\n",
      "[5 rows x 43 columns]\n"
     ]
    }
   ],
   "source": [
    "att = ['noc', 'avg_age', 'avg_height', 'avg_weight', 'medals',\n",
    "                    'global_gold','global_silver','global_bronze',\n",
    "                    'swimming_gold','swimming_silver','swimming_bronze',\n",
    "                    'gymnastics_gold','gymnastics_silver','gymnastics_bronze',\n",
    "                    'hockey_gold','hockey_silver','hockey_bronze',\n",
    "                    'rowing_gold','rowing_silver','rowing_bronze',\n",
    "                    'football_gold','football_silver','football_bronze',\n",
    "                    'sailing_gold','sailing_silver','sailing_bronze',\n",
    "                    'cycling_gold','cycling_silver','cycling_bronze',\n",
    "                    'fencing_gold','fencing_silver','fencing_bronze',\n",
    "                    'athletics_gold','athletics_silver','athletics_bronze',\n",
    "                    'canoeing_gold','canoeing_silver','canoeing_bronze',\n",
    "                    'wrestling_gold','wrestling_silver','wrestling_bronze',\n",
    "                    'shooting_gold','shooting_silver','shooting_bronze']\n",
    "\n",
    "data = pd.io.parsers.read_csv(\n",
    "    '../proj_datasets/dimensionality_reduction_input.csv',\n",
    "    usecols=[0, 1, 2, 3, 4, 5, 6, 7, 8, 9, 10, 11, 12, 13, 14, 15, 16, 17, 18, 19, 20,\n",
    "             21, 22, 23, 24, 25, 26, 27, 28, 29, 30,31,32,33,34,35,36,37,38,39,40,41,42,43],\n",
    "    header=0)\n",
    "\n",
    "nocs = data.values[:,0] ##just nocs\n",
    "\n",
    "d_vals = data.loc[:, 'avg_age':'shooting_bronze'] ##just numbers\n",
    "\n",
    "d_vals.infer_objects()\n",
    "\n",
    "#cols = data.select_dtypes(exclude=['object']).columns\n",
    "#data[cols] = data[cols].apply(pd.to_numeric, downcast='float', errors='coerce')\n",
    "#data = data.astype(np.float16)\n",
    "#data = data.astype({\"noc\": str})\n",
    "#data.infer_objects()\n",
    "#data.convert_objects(convert_numeric=True)\n",
    "\n",
    "#print(d_vals.dtypes)\n",
    "\n",
    "d_vals.columns = att[1:]\n",
    "\n",
    "print(d_vals.head())\n",
    "\n"
   ]
  },
  {
   "cell_type": "code",
   "execution_count": 10,
   "metadata": {},
   "outputs": [
    {
     "name": "stdout",
     "output_type": "stream",
     "text": [
      "<matplotlib.mlab.PCA object at 0x1a191d1b00>\n"
     ]
    }
   ],
   "source": [
    "\n",
    "d = d_vals\n",
    "\n",
    "d_pca = mlabPCA(d)\n",
    "\n",
    "print(d_pca)"
   ]
  },
  {
   "cell_type": "code",
   "execution_count": 11,
   "metadata": {},
   "outputs": [
    {
     "name": "stdout",
     "output_type": "stream",
     "text": [
      "-2.248113298424603e-15\n",
      "-8.563276179753108e-16\n",
      "8.945079717451727e-16\n",
      "2.4803749514312236e-15\n",
      "0.0006682289008642309\n",
      "0.0017584963451141612\n",
      "0.0018010810321255628\n",
      "0.003301145657400657\n",
      "0.004211084161444033\n",
      "0.005561073446417875\n",
      "0.006620503141670924\n",
      "0.008133908202628937\n",
      "0.013362067148865663\n",
      "0.015575238697871443\n",
      "0.01744945192570235\n",
      "0.021575998955075112\n",
      "0.03277265491510584\n",
      "0.03697748476814664\n",
      "0.05484222842532249\n",
      "0.06359551332274634\n",
      "0.06834055318187472\n",
      "0.0780696611432873\n",
      "0.11187689836480418\n",
      "0.12418780810396166\n",
      "0.1798641369370813\n",
      "0.19883283869452534\n",
      "0.2750769518459909\n",
      "0.28052603676958504\n",
      "0.3331591564987728\n",
      "0.38847142194386103\n",
      "0.4526484508013484\n",
      "0.49454272089279255\n",
      "0.5760425944396304\n",
      "0.6467750110405206\n",
      "0.7551934284777044\n",
      "0.9702855068806104\n",
      "1.2357288365562764\n",
      "1.524130287960718\n",
      "1.6335959689298638\n",
      "2.280727220048983\n",
      "3.504167446621978\n",
      "3.6750019768484585\n",
      "23.285893465786017\n",
      "Cumulated variance of the first two PCA components: 0.6217725886964149\n"
     ]
    }
   ],
   "source": [
    "d_cov = np.cov(d.T)\n",
    "\n",
    "#for i in range(len(d_cov)):\n",
    "#    print('Variance original data not scaled axis n'+str(i),d_cov[i][i])\n",
    "\n",
    "std_scale = preprocessing.StandardScaler().fit(d)\n",
    "d_std = std_scale.transform(d)\n",
    "d_cov = np.cov(d_std.T)\n",
    "d_val, d_vec = np.linalg.eig(d_cov)\n",
    "d_val.sort()\n",
    "\n",
    "for i in range(len(d_val)):\n",
    "    print(d_val[i])\n",
    "\n",
    "print('Cumulated variance of the first two PCA components:',\n",
    "      (d_val[-1]+d_val[-2])/sum(d_val))"
   ]
  },
  {
   "cell_type": "code",
   "execution_count": 12,
   "metadata": {},
   "outputs": [
    {
     "data": {
      "text/plain": [
       "<function matplotlib.pyplot.show>"
      ]
     },
     "execution_count": 12,
     "metadata": {},
     "output_type": "execute_result"
    },
    {
     "data": {
      "image/png": "[encoded data removed]",
      "text/plain": [
       "<matplotlib.figure.Figure at 0x1a192058d0>"
      ]
     },
     "metadata": {},
     "output_type": "display_data"
    }
   ],
   "source": [
    "s = 10\n",
    "plt.scatter(d_pca.Y[:, 0], d_pca.Y[0:, 1],\n",
    "            color='red', s=s, lw=0, label='All the rest')\n",
    "plt.scatter(d_pca.Y[20:21, 0], d_pca.Y[20:21, 1],\n",
    "            color='blue', s=s, lw=0, label='GER')\n",
    "plt.scatter(d_pca.Y[6:7, 0], d_pca.Y[6:7, 1],\n",
    "            color='green', s=s, lw=0, label='RUS')\n",
    "plt.scatter(d_pca.Y[9:10, 0], d_pca.Y[9:10, 1],\n",
    "            color='yellow', s=s, lw=0, label='USA?')\n",
    "\n",
    "plt.legend()\n",
    "plt.title('Transformed data from matplotlib.mlab.PCA()')\n",
    "\n",
    "plt.show"
   ]
  },
  {
   "cell_type": "code",
   "execution_count": 13,
   "metadata": {},
   "outputs": [
    {
     "name": "stdout",
     "output_type": "stream",
     "text": [
      "(120, 43)\n",
      "(120,)\n",
      "{'FIN': {'coord': array([ 3.44535779, -3.22508683]), 'meds': 432}, 'NOR': {'coord': array([ 4.38913025, -1.27470431]), 'meds': 488}, 'NED': {'coord': array([5.40547788, 6.90931367]), 'meds': 743}, 'FRA': {'coord': array([11.67050887,  3.95020281]), 'meds': 1122}, 'ITA': {'coord': array([9.02998944, 3.62519236]), 'meds': 1035}, 'ESP': {'coord': array([0.56579496, 1.99191422]), 'meds': 238}, 'RUS': {'coord': array([19.37807722, -4.07796925]), 'meds': 1992}, 'BLR': {'coord': array([-0.96446589,  0.00792408]), 'meds': 82}, 'CMR': {'coord': array([-1.78299652, -0.22238193]), 'meds': 20}, 'USA': {'coord': array([ 27.39585838, -12.53337408]), 'meds': 3488}, 'HUN': {'coord': array([7.13204939, 1.33314843]), 'meds': 812}, 'GRE': {'coord': array([ 0.15920523, -0.41238322]), 'meds': 190}, 'AUS': {'coord': array([7.50996972, 4.66220492]), 'meds': 1026}, 'IRI': {'coord': array([-1.26560435, -1.12934429]), 'meds': 44}, 'CAN': {'coord': array([4.31439134, 1.05338862]), 'meds': 571}, 'PAK': {'coord': array([-1.19153993,  2.03296054]), 'meds': 120}, 'AZE': {'coord': array([-1.5631071 , -0.70131615]), 'meds': 28}, 'TJK': {'coord': array([-2.0940753 , -0.13935244]), 'meds': 2}, 'ETH': {'coord': array([-1.76700857, -0.42499165]), 'meds': 53}, 'SUI': {'coord': array([ 1.90295423, -0.74238529]), 'meds': 316}, 'GER': {'coord': array([23.31644061,  9.44599547]), 'meds': 2472}, 'SWE': {'coord': array([ 9.1536237 , -2.45640803]), 'meds': 827}, 'RSA': {'coord': array([-1.21974856,  0.01708367]), 'meds': 88}, 'TUR': {'coord': array([-0.97110404, -1.59488968]), 'meds': 69}, 'BUL': {'coord': array([ 0.92796939, -1.13151387]), 'meds': 211}, 'EGY': {'coord': array([-1.97453238, -0.20544855]), 'meds': 7}, 'GBR': {'coord': array([14.50653435,  3.69926981]), 'meds': 1485}, 'JPN': {'coord': array([ 2.63776606, -2.39141896]), 'meds': 456}, 'ROU': {'coord': array([3.65109078, 0.11982819]), 'meds': 516}, 'MEX': {'coord': array([-1.66436503, -0.2755187 ]), 'meds': 34}, 'GHA': {'coord': array([-1.83185701,  0.16432794]), 'meds': 20}, 'NZL': {'coord': array([-1.43781677e-04,  8.45360533e-01]), 'meds': 184}, 'ARG': {'coord': array([0.010149  , 1.35256623]), 'meds': 192}, 'POL': {'coord': array([2.30112792, 0.7202917 ]), 'meds': 374}, 'NGR': {'coord': array([-1.18118739, -0.08161839]), 'meds': 91}, 'BRA': {'coord': array([0.56053346, 0.41413453]), 'meds': 232}, 'AUT': {'coord': array([-0.65634873,  0.20091882]), 'meds': 112}, 'CUB': {'coord': array([-0.88144988, -0.70055708]), 'meds': 114}, 'CHI': {'coord': array([-1.85153947,  0.07142242]), 'meds': 20}, 'UKR': {'coord': array([-0.48142344, -0.34698201]), 'meds': 127}, 'UGA': {'coord': array([-2.07537274, -0.11751027]), 'meds': 3}, 'QAT': {'coord': array([-2.05170715, -0.11267867]), 'meds': 4}, 'KUW': {'coord': array([-2.09177864, -0.15304236]), 'meds': 2}, 'IOA': {'coord': array([-2.01754505, -0.20272356]), 'meds': 5}, 'UAE': {'coord': array([-2.12862947, -0.18578283]), 'meds': 1}, 'KSA': {'coord': array([-2.0745526 , -0.04293931]), 'meds': 1}, 'DEN': {'coord': array([4.04472702, 0.74325084]), 'meds': 481}, 'LTU': {'coord': array([-1.85217972, -0.04909057]), 'meds': 20}, 'ARM': {'coord': array([-1.94740912, -0.32455677]), 'meds': 8}, 'IND': {'coord': array([-0.80919575,  2.54896315]), 'meds': 184}, 'JAM': {'coord': array([-1.04976132, -0.80970353]), 'meds': 157}, 'TTO': {'coord': array([-1.84591002, -0.22078573]), 'meds': 34}, 'BOT': {'coord': array([-2.06808325, -0.10563277]), 'meds': 1}, 'TUN': {'coord': array([-2.02481389, -0.18183542]), 'meds': 10}, 'KOR': {'coord': array([-0.23486462,  0.12405519]), 'meds': 153}, 'URU': {'coord': array([-1.51164219, -0.25621201]), 'meds': 38}, 'CZE': {'coord': array([1.65397211, 0.24431804]), 'meds': 314}, 'SRB': {'coord': array([-0.30753554, -0.26888401]), 'meds': 145}, 'BEL': {'coord': array([1.57099894, 1.15853267]), 'meds': 287}, 'MAR': {'coord': array([-1.97706701, -0.2328016 ]), 'meds': 19}, 'KEN': {'coord': array([-1.47226853, -0.61082921]), 'meds': 99}, 'SYR': {'coord': array([-2.04885578, -0.12106634]), 'meds': 3}, 'HAI': {'coord': array([-1.97723976, -0.17842654]), 'meds': 6}, 'MAL': {'coord': array([-2.09392363, -0.17200501]), 'meds': 1}, 'SVK': {'coord': array([-1.44157685,  0.35075428]), 'meds': 41}, 'BAH': {'coord': array([-1.80156716, -0.27838513]), 'meds': 40}, 'KAZ': {'coord': array([-1.62918327, -0.52870361]), 'meds': 27}, 'CHN': {'coord': array([ 2.08349195, -1.10805642]), 'meds': 383}, 'PAR': {'coord': array([-1.949096  , -0.03249228]), 'meds': 17}, 'POR': {'coord': array([-1.73911541, -0.08960652]), 'meds': 28}, 'GUA': {'coord': array([-2.0777415 , -0.11738662]), 'meds': 1}, 'LUX': {'coord': array([-2.08580893, -0.1517956 ]), 'meds': 2}, 'TAN': {'coord': array([-2.0857349 , -0.10606101]), 'meds': 2}, 'LIB': {'coord': array([-2.03961439, -0.16079384]), 'meds': 3}, 'KGZ': {'coord': array([-2.05618955, -0.21447736]), 'meds': 2}, 'COL': {'coord': array([-1.89111949, -0.11725582]), 'meds': 13}, 'LAT': {'coord': array([-1.92695418, -0.08521527]), 'meds': 14}, 'AHO': {'coord': array([-2.06231975, -0.11587541]), 'meds': 1}, 'GEO': {'coord': array([-1.72229805, -0.54201768]), 'meds': 19}, 'CRO': {'coord': array([-1.76842476, -0.06727987]), 'meds': 31}, 'TOG': {'coord': array([-2.08558817, -0.10599029]), 'meds': 1}, 'ALG': {'coord': array([-2.04535656, -0.18434297]), 'meds': 9}, 'PER': {'coord': array([-2.05005613, -0.16856572]), 'meds': 3}, 'SLO': {'coord': array([-1.79429216, -0.03270006]), 'meds': 25}, 'ZIM': {'coord': array([-1.97960387,  0.03594343]), 'meds': 22}, 'TPE': {'coord': array([-2.0832419 , -0.13320334]), 'meds': 2}, 'MGL': {'coord': array([-1.87177762, -0.39547973]), 'meds': 11}, 'PUR': {'coord': array([-2.06684312, -0.07787961]), 'meds': 2}, 'IRL': {'coord': array([-1.97216079, -0.17146214]), 'meds': 15}, 'VEN': {'coord': array([-2.02777647, -0.11497915]), 'meds': 6}, 'SEN': {'coord': array([-2.09313213, -0.06092301]), 'meds': 1}, 'UZB': {'coord': array([-1.90678119, -0.33016128]), 'meds': 11}, 'ISL': {'coord': array([-2.06901544, -0.08214921]), 'meds': 2}, 'EST': {'coord': array([-1.62302278, -0.2452197 ]), 'meds': 32}, 'NAM': {'coord': array([-2.07129745, -0.12361688]), 'meds': 4}, 'ISR': {'coord': array([-2.01074903, -0.05552276]), 'meds': 4}, 'VNM': {'coord': array([-2.11088033, -0.19185874]), 'meds': 2}, 'ISV': {'coord': array([-2.08298033, -0.09638266]), 'meds': 1}, 'PRK': {'coord': array([-1.83209181, -0.50099607]), 'meds': 16}, 'MKD': {'coord': array([-2.07747048, -0.12029645]), 'meds': 1}, 'SUD': {'coord': array([-2.07307864, -0.03189131]), 'meds': 1}, 'BRN': {'coord': array([-2.09133117, -0.22655244]), 'meds': 3}, 'GRN': {'coord': array([-2.0721724 , -0.10889998]), 'meds': 2}, 'SRI': {'coord': array([-2.09625448, -0.18870471]), 'meds': 2}, 'MDA': {'coord': array([-2.03158952, -0.08996329]), 'meds': 4}, 'CYP': {'coord': array([-2.06560438, -0.07395327]), 'meds': 1}, 'PAN': {'coord': array([-2.07132009, -0.09051359]), 'meds': 3}, 'ZAM': {'coord': array([-2.09267673, -0.09034638]), 'meds': 1}, 'MOZ': {'coord': array([-2.09350856, -0.19969885]), 'meds': 2}, 'SUR': {'coord': array([-2.07427226, -0.09804257]), 'meds': 2}, 'BDI': {'coord': array([-2.08155681, -0.16408687]), 'meds': 2}, 'ECU': {'coord': array([-2.10234727, -0.19864257]), 'meds': 2}, 'CRC': {'coord': array([-2.05277299, -0.04118188]), 'meds': 4}, 'DJI': {'coord': array([-2.10465073, -0.12277721]), 'meds': 1}, 'DOM': {'coord': array([-2.08528048, -0.14777461]), 'meds': 3}, 'SGP': {'coord': array([-2.07700402, -0.07636361]), 'meds': 1}, 'ERI': {'coord': array([-2.09225624, -0.22022478]), 'meds': 1}, 'BAR': {'coord': array([-2.08287887, -0.08927293]), 'meds': 1}, 'CIV': {'coord': array([-2.0738492 , -0.09577633]), 'meds': 1}, 'PHI': {'coord': array([-2.06909003, -0.147316  ]), 'meds': 4}}\n"
     ]
    }
   ],
   "source": [
    "#print(type(d_pca.Y))\n",
    "print(d_pca.Y.shape)\n",
    "print(nocs.shape)\n",
    "\n",
    "#new = np.append(d_pca.Y, nocs, axis=1)\n",
    "#print(d_pca.Y[:, 0:2])\n",
    "\n",
    "dim_red_output = {}\n",
    "\n",
    "for i in range(len(d_pca.Y)):\n",
    "    dim_red_output[nocs[i]] = {}\n",
    "    dim_red_output[nocs[i]]['coord'] = d_pca.Y[i, 0:2]\n",
    "    dim_red_output[nocs[i]]['meds'] = (int)(d_vals.iloc[i][3])\n",
    "    \n",
    "    \n",
    "print(dim_red_output)"
   ]
  },
  {
   "cell_type": "code",
   "execution_count": 14,
   "metadata": {},
   "outputs": [],
   "source": [
    "            \n",
    "dro = open(\"../proj_datasets/dimensionality_reduction_output.csv\", \"w+\")\n",
    "writer_dro = csv.writer(dro, lineterminator='\\n')\n",
    "\n",
    "\n",
    "writer_dro.writerow(['noc','x', 'y'])\n",
    "    \n",
    "    \n",
    "#print(dis_features)\n",
    "#print(dis_parameters)\n",
    "\n",
    "\n",
    "#print(dim_red_dic['USA'])\n",
    "\n",
    "\n",
    "for i in dim_red_output:  \n",
    "    writer_dro.writerow([i, dim_red_output[i]['coord'][0], dim_red_output[i]['coord'][1]])\n",
    "\n",
    "\n",
    "dro.close()"
   ]
  },
  {
   "cell_type": "code",
   "execution_count": 15,
   "metadata": {},
   "outputs": [
    {
     "name": "stdout",
     "output_type": "stream",
     "text": [
      "[[ 2.4320933  -0.24482192]\n",
      " [ 9.20116476  3.10327485]\n",
      " [23.3869678  -8.30567167]\n",
      " [-1.75570662 -0.11593822]\n",
      " [23.31644061  9.44599547]]\n"
     ]
    },
    {
     "data": {
      "text/plain": [
       "<matplotlib.collections.PathCollection at 0x1a19343d30>"
      ]
     },
     "execution_count": 15,
     "metadata": {},
     "output_type": "execute_result"
    },
    {
     "data": {
      "image/png": "[encoded data removed]",
      "text/plain": [
       "<matplotlib.figure.Figure at 0x1a191e33c8>"
      ]
     },
     "metadata": {},
     "output_type": "display_data"
    }
   ],
   "source": [
    "#read the csv output\n",
    "\n",
    "att2 = ['noc', 'x', 'y']\n",
    "\n",
    "data2 = pd.io.parsers.read_csv(\n",
    "    '../proj_datasets/dimensionality_reduction_output.csv',\n",
    "    usecols=[0, 1, 2],\n",
    "    header=0)\n",
    "\n",
    "d_vals2 = data2.loc[:, 'x':'y'] ##just numbers\n",
    "\n",
    "\n",
    "\n",
    "kmeans = KMeans(n_clusters=5).fit(d_vals2)\n",
    "centroids = kmeans.cluster_centers_\n",
    "print(centroids)\n",
    "\n",
    "plt.scatter(d_vals2['x'], d_vals2['y'], c= kmeans.labels_.astype(float), s=10, alpha=0.5)\n",
    "plt.scatter(centroids[:, 0], centroids[:, 1], c='red', s=30)"
   ]
  },
  {
   "cell_type": "code",
   "execution_count": 16,
   "metadata": {},
   "outputs": [
    {
     "name": "stdout",
     "output_type": "stream",
     "text": [
      "{'FIN': {'coord': array([ 3.44535779, -3.22508683]), 'meds': 432}, 'NOR': {'coord': array([ 4.38913025, -1.27470431]), 'meds': 488}, 'NED': {'coord': array([5.40547788, 6.90931367]), 'meds': 743}, 'FRA': {'coord': array([11.67050887,  3.95020281]), 'meds': 1122}, 'ITA': {'coord': array([9.02998944, 3.62519236]), 'meds': 1035}, 'ESP': {'coord': array([0.56579496, 1.99191422]), 'meds': 238}, 'RUS': {'coord': array([19.37807722, -4.07796925]), 'meds': 1992}, 'BLR': {'coord': array([-0.96446589,  0.00792408]), 'meds': 82}, 'CMR': {'coord': array([-1.78299652, -0.22238193]), 'meds': 20}, 'USA': {'coord': array([ 27.39585838, -12.53337408]), 'meds': 3488}, 'HUN': {'coord': array([7.13204939, 1.33314843]), 'meds': 812}, 'GRE': {'coord': array([ 0.15920523, -0.41238322]), 'meds': 190}, 'AUS': {'coord': array([7.50996972, 4.66220492]), 'meds': 1026}, 'IRI': {'coord': array([-1.26560435, -1.12934429]), 'meds': 44}, 'CAN': {'coord': array([4.31439134, 1.05338862]), 'meds': 571}, 'PAK': {'coord': array([-1.19153993,  2.03296054]), 'meds': 120}, 'AZE': {'coord': array([-1.5631071 , -0.70131615]), 'meds': 28}, 'TJK': {'coord': array([-2.0940753 , -0.13935244]), 'meds': 2}, 'ETH': {'coord': array([-1.76700857, -0.42499165]), 'meds': 53}, 'SUI': {'coord': array([ 1.90295423, -0.74238529]), 'meds': 316}, 'GER': {'coord': array([23.31644061,  9.44599547]), 'meds': 2472}, 'SWE': {'coord': array([ 9.1536237 , -2.45640803]), 'meds': 827}, 'RSA': {'coord': array([-1.21974856,  0.01708367]), 'meds': 88}, 'TUR': {'coord': array([-0.97110404, -1.59488968]), 'meds': 69}, 'BUL': {'coord': array([ 0.92796939, -1.13151387]), 'meds': 211}, 'EGY': {'coord': array([-1.97453238, -0.20544855]), 'meds': 7}, 'GBR': {'coord': array([14.50653435,  3.69926981]), 'meds': 1485}, 'JPN': {'coord': array([ 2.63776606, -2.39141896]), 'meds': 456}, 'ROU': {'coord': array([3.65109078, 0.11982819]), 'meds': 516}, 'MEX': {'coord': array([-1.66436503, -0.2755187 ]), 'meds': 34}, 'GHA': {'coord': array([-1.83185701,  0.16432794]), 'meds': 20}, 'NZL': {'coord': array([-1.43781677e-04,  8.45360533e-01]), 'meds': 184}, 'ARG': {'coord': array([0.010149  , 1.35256623]), 'meds': 192}, 'POL': {'coord': array([2.30112792, 0.7202917 ]), 'meds': 374}, 'NGR': {'coord': array([-1.18118739, -0.08161839]), 'meds': 91}, 'BRA': {'coord': array([0.56053346, 0.41413453]), 'meds': 232}, 'AUT': {'coord': array([-0.65634873,  0.20091882]), 'meds': 112}, 'CUB': {'coord': array([-0.88144988, -0.70055708]), 'meds': 114}, 'CHI': {'coord': array([-1.85153947,  0.07142242]), 'meds': 20}, 'UKR': {'coord': array([-0.48142344, -0.34698201]), 'meds': 127}, 'UGA': {'coord': array([-2.07537274, -0.11751027]), 'meds': 3}, 'QAT': {'coord': array([-2.05170715, -0.11267867]), 'meds': 4}, 'KUW': {'coord': array([-2.09177864, -0.15304236]), 'meds': 2}, 'IOA': {'coord': array([-2.01754505, -0.20272356]), 'meds': 5}, 'UAE': {'coord': array([-2.12862947, -0.18578283]), 'meds': 1}, 'KSA': {'coord': array([-2.0745526 , -0.04293931]), 'meds': 1}, 'DEN': {'coord': array([4.04472702, 0.74325084]), 'meds': 481}, 'LTU': {'coord': array([-1.85217972, -0.04909057]), 'meds': 20}, 'ARM': {'coord': array([-1.94740912, -0.32455677]), 'meds': 8}, 'IND': {'coord': array([-0.80919575,  2.54896315]), 'meds': 184}, 'JAM': {'coord': array([-1.04976132, -0.80970353]), 'meds': 157}, 'TTO': {'coord': array([-1.84591002, -0.22078573]), 'meds': 34}, 'BOT': {'coord': array([-2.06808325, -0.10563277]), 'meds': 1}, 'TUN': {'coord': array([-2.02481389, -0.18183542]), 'meds': 10}, 'KOR': {'coord': array([-0.23486462,  0.12405519]), 'meds': 153}, 'URU': {'coord': array([-1.51164219, -0.25621201]), 'meds': 38}, 'CZE': {'coord': array([1.65397211, 0.24431804]), 'meds': 314}, 'SRB': {'coord': array([-0.30753554, -0.26888401]), 'meds': 145}, 'BEL': {'coord': array([1.57099894, 1.15853267]), 'meds': 287}, 'MAR': {'coord': array([-1.97706701, -0.2328016 ]), 'meds': 19}, 'KEN': {'coord': array([-1.47226853, -0.61082921]), 'meds': 99}, 'SYR': {'coord': array([-2.04885578, -0.12106634]), 'meds': 3}, 'HAI': {'coord': array([-1.97723976, -0.17842654]), 'meds': 6}, 'MAL': {'coord': array([-2.09392363, -0.17200501]), 'meds': 1}, 'SVK': {'coord': array([-1.44157685,  0.35075428]), 'meds': 41}, 'BAH': {'coord': array([-1.80156716, -0.27838513]), 'meds': 40}, 'KAZ': {'coord': array([-1.62918327, -0.52870361]), 'meds': 27}, 'CHN': {'coord': array([ 2.08349195, -1.10805642]), 'meds': 383}, 'PAR': {'coord': array([-1.949096  , -0.03249228]), 'meds': 17}, 'POR': {'coord': array([-1.73911541, -0.08960652]), 'meds': 28}, 'GUA': {'coord': array([-2.0777415 , -0.11738662]), 'meds': 1}, 'LUX': {'coord': array([-2.08580893, -0.1517956 ]), 'meds': 2}, 'TAN': {'coord': array([-2.0857349 , -0.10606101]), 'meds': 2}, 'LIB': {'coord': array([-2.03961439, -0.16079384]), 'meds': 3}, 'KGZ': {'coord': array([-2.05618955, -0.21447736]), 'meds': 2}, 'COL': {'coord': array([-1.89111949, -0.11725582]), 'meds': 13}, 'LAT': {'coord': array([-1.92695418, -0.08521527]), 'meds': 14}, 'AHO': {'coord': array([-2.06231975, -0.11587541]), 'meds': 1}, 'GEO': {'coord': array([-1.72229805, -0.54201768]), 'meds': 19}, 'CRO': {'coord': array([-1.76842476, -0.06727987]), 'meds': 31}, 'TOG': {'coord': array([-2.08558817, -0.10599029]), 'meds': 1}, 'ALG': {'coord': array([-2.04535656, -0.18434297]), 'meds': 9}, 'PER': {'coord': array([-2.05005613, -0.16856572]), 'meds': 3}, 'SLO': {'coord': array([-1.79429216, -0.03270006]), 'meds': 25}, 'ZIM': {'coord': array([-1.97960387,  0.03594343]), 'meds': 22}, 'TPE': {'coord': array([-2.0832419 , -0.13320334]), 'meds': 2}, 'MGL': {'coord': array([-1.87177762, -0.39547973]), 'meds': 11}, 'PUR': {'coord': array([-2.06684312, -0.07787961]), 'meds': 2}, 'IRL': {'coord': array([-1.97216079, -0.17146214]), 'meds': 15}, 'VEN': {'coord': array([-2.02777647, -0.11497915]), 'meds': 6}, 'SEN': {'coord': array([-2.09313213, -0.06092301]), 'meds': 1}, 'UZB': {'coord': array([-1.90678119, -0.33016128]), 'meds': 11}, 'ISL': {'coord': array([-2.06901544, -0.08214921]), 'meds': 2}, 'EST': {'coord': array([-1.62302278, -0.2452197 ]), 'meds': 32}, 'NAM': {'coord': array([-2.07129745, -0.12361688]), 'meds': 4}, 'ISR': {'coord': array([-2.01074903, -0.05552276]), 'meds': 4}, 'VNM': {'coord': array([-2.11088033, -0.19185874]), 'meds': 2}, 'ISV': {'coord': array([-2.08298033, -0.09638266]), 'meds': 1}, 'PRK': {'coord': array([-1.83209181, -0.50099607]), 'meds': 16}, 'MKD': {'coord': array([-2.07747048, -0.12029645]), 'meds': 1}, 'SUD': {'coord': array([-2.07307864, -0.03189131]), 'meds': 1}, 'BRN': {'coord': array([-2.09133117, -0.22655244]), 'meds': 3}, 'GRN': {'coord': array([-2.0721724 , -0.10889998]), 'meds': 2}, 'SRI': {'coord': array([-2.09625448, -0.18870471]), 'meds': 2}, 'MDA': {'coord': array([-2.03158952, -0.08996329]), 'meds': 4}, 'CYP': {'coord': array([-2.06560438, -0.07395327]), 'meds': 1}, 'PAN': {'coord': array([-2.07132009, -0.09051359]), 'meds': 3}, 'ZAM': {'coord': array([-2.09267673, -0.09034638]), 'meds': 1}, 'MOZ': {'coord': array([-2.09350856, -0.19969885]), 'meds': 2}, 'SUR': {'coord': array([-2.07427226, -0.09804257]), 'meds': 2}, 'BDI': {'coord': array([-2.08155681, -0.16408687]), 'meds': 2}, 'ECU': {'coord': array([-2.10234727, -0.19864257]), 'meds': 2}, 'CRC': {'coord': array([-2.05277299, -0.04118188]), 'meds': 4}, 'DJI': {'coord': array([-2.10465073, -0.12277721]), 'meds': 1}, 'DOM': {'coord': array([-2.08528048, -0.14777461]), 'meds': 3}, 'SGP': {'coord': array([-2.07700402, -0.07636361]), 'meds': 1}, 'ERI': {'coord': array([-2.09225624, -0.22022478]), 'meds': 1}, 'BAR': {'coord': array([-2.08287887, -0.08927293]), 'meds': 1}, 'CIV': {'coord': array([-2.0738492 , -0.09577633]), 'meds': 1}, 'PHI': {'coord': array([-2.06909003, -0.147316  ]), 'meds': 4}}\n"
     ]
    }
   ],
   "source": [
    "with open('../proj_datasets/final_clustering.csv', 'w+') as final:\n",
    "    kmeans_writer = csv.writer(final, delimiter=',', quotechar='\"', quoting=csv.QUOTE_MINIMAL)\n",
    "    kmeans_writer.writerow(['team','meds','x','y','cluster'])\n",
    "    \n",
    "    print(dim_red_output)\n",
    "        \n",
    "    for i,el in enumerate(dim_red_output):\n",
    "        team=el\n",
    "        #print(i, team)    \n",
    "        x_v = dim_red_output[team]['coord'][0]\n",
    "        y_v = dim_red_output[team]['coord'][1]\n",
    "        m = dim_red_output[team]['meds']\n",
    "        cluster = kmeans.labels_[i]\n",
    "        \n",
    "        kmeans_writer.writerow([team,m,x_v,y_v,cluster])"
   ]
  }
 ],
 "metadata": {
  "kernelspec": {
   "display_name": "Python 3",
   "language": "python",
   "name": "python3"
  },
  "language_info": {
   "codemirror_mode": {
    "name": "ipython",
    "version": 3
   },
   "file_extension": ".py",
   "mimetype": "text/x-python",
   "name": "python",
   "nbconvert_exporter": "python",
   "pygments_lexer": "ipython3",
   "version": "3.6.4"
  }
 },
 "nbformat": 4,
 "nbformat_minor": 2
}
